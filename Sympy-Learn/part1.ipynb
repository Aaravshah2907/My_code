{
 "cells": [
  {
   "cell_type": "markdown",
   "metadata": {},
   "source": [
    "# Basic Functionalities"
   ]
  },
  {
   "cell_type": "code",
   "execution_count": 30,
   "metadata": {},
   "outputs": [
    {
     "name": "stdout",
     "output_type": "stream",
     "text": [
      "7\n",
      "(x + 1)**2\n",
      "y**2 + (x + 1)**2\n",
      "x**2 + 2*x + 1\n",
      "\n",
      "       2\n",
      "(x + 1) \n",
      "Soln. for (x + 1)**2 is: [-1].\n",
      "Substituting x as -1 in (x + 1)**2 gives the result 0\n",
      "Substituting x as -1 and y as 2 in x**2 + y**3 gives the result 9\n",
      "Substituting x as 2 and y as 3 in x**2 + y**3 gives the result 31\n",
      "y**2 + (x + 1)**2\n",
      "Differentiating y**2 + (x + 1)**2 wrt x gives the expression: 2*x + 2\n",
      "Differentiating y**2 + (x + 1)**2 wrt y gives the expression: 2*y\n",
      "Double Differentiating y**2 + (x + 1)**2 wrt x gives the expression: 2\n",
      "Triple Differentiating y**2 + (x + 1)**2 wrt x gives the expression: 0\n",
      "Triple Differentiating y**2 + (x + 1)**2 wrt x gives the expression: 0\n",
      "360 degrees = 6.28318530717959\n",
      "sin(1)*cos(3)*tan(4)\n",
      "-0.964522974183634\n",
      "Integrating y**2 + (x + 1)**2 wrt x x**3/3 + x**2 + x*(y**2 + 1)\n",
      "Integrating y**2 + (x + 1)**2 wrt x twice x**4/12 + x**3/3 + x**2*(y**2/2 + 1/2)\n",
      "Integrating y**2 + (x + 1)**2 wrt x twice x**4/12 + x**3/3 + x**2*(y**2/2 + 1/2)\n",
      "Integrating sin(x)*cos(y)*tan(x + y) wrt x cos(y)*Integral(sin(x)*tan(x + y), x)\n",
      "Integrating y**2 + (x + 1)**2 wrt x from 0 to 1 and y from 2 to 3: 26/3\n",
      "sin(x)**2 + cos(x)**2 can be simplified as 1\n"
     ]
    }
   ],
   "source": [
    "import sympy as sy\n",
    "from sympy import symbols\n",
    "# For squareroot\n",
    "print(sy.sqrt(7)**2)\n",
    "\n",
    "# For Defining Symbols\n",
    "x, y = sy.symbols(\"x y\")\n",
    "\n",
    "# For creating an expression\n",
    "expression1 = (x+1)**2\n",
    "print(expression1)\n",
    "\n",
    "# For updating an expression\n",
    "expression1 += y**2 #Addition,subtraction,multiplication, division allowed\n",
    "print(expression1)\n",
    "\n",
    "# For changing the display format --> To get expanded form\n",
    "expression1 -= y**2\n",
    "print(sy.expand(expression1))\n",
    "print() # New Line\n",
    "\n",
    "# For better viewing\n",
    "from sympy import pretty_print\n",
    "pretty_print(expression1)\n",
    "\n",
    "# Solving an expression\n",
    "from sympy import solve\n",
    "print(f\"Soln. for {expression1} is: {solve(expression1)}.\")\n",
    "\n",
    "# Substituting a value in the equation\n",
    "print(f\"Substituting x as -1 in {expression1} gives the result {expression1.subs(x,-1)}\")\n",
    "\n",
    "# Substituting for a multi-variable system\n",
    "vals = [(x,1),(y,2)] # To store values in a list of tuples\n",
    "expr = x**2 + y**3\n",
    "print(f\"Substituting x as -1 and y as 2 in {expr} gives the result {expr.subs(vals)}\")\n",
    "dict_vals = {x:2, y:3}\n",
    "print(f\"Substituting x as 2 and y as 3 in {expr} gives the result {expr.subs(dict_vals)}\")\n",
    "\n",
    "\n",
    "# To differentiate an equation\n",
    "from sympy import diff\n",
    "expression1 += y**2\n",
    "print(expression1)\n",
    "print(f\"Differentiating {expression1} wrt x gives the expression: {diff(expression1, x)}\")\n",
    "print(f\"Differentiating {expression1} wrt y gives the expression: {diff(expression1, y)}\")\n",
    "print(f\"Double Differentiating {expression1} wrt x gives the expression: {diff(expression1, x, x)}\")\n",
    "print(f\"Triple Differentiating {expression1} wrt x gives the expression: {diff(expression1, x, x,x)}\")\n",
    "print(f\"Triple Differentiating {expression1} wrt x gives the expression: {diff(expression1, x, 3)}\")\n",
    "\n",
    "# To use trigo fn and exp\n",
    "from sympy import sin, cos, tan, exp,N\n",
    "from mpmath import radians #radians fn takes in degrees as input and gives out correspnding radians as output\n",
    "trigo_vals = {x:1, y:3}\n",
    "print(f\"360 degrees = {radians(360)}\")\n",
    "trigo_expr = sin(x)*cos(y)*tan(x+y)\n",
    "print(f\"{trigo_expr.subs(trigo_vals)}\")\n",
    "print(f\"{N(trigo_expr.subs(trigo_vals))}\") # N fn gives the numeric value in decimal\n",
    "\n",
    "# To integrate\n",
    "from sympy import integrate\n",
    "Integrated_expression1_wrt_x = integrate(expression1, x)\n",
    "print(f\"Integrating {expression1} wrt x {Integrated_expression1_wrt_x}\")\n",
    "print(f\"Integrating {expression1} wrt x twice {integrate(Integrated_expression1_wrt_x,x )}\")\n",
    "print(f\"Integrating {expression1} wrt x twice {integrate(expression1,x,x)}\") #Note: Same trick as in diff can't be used\n",
    "print(f\"Integrating {trigo_expr} wrt x {integrate(trigo_expr,x)}\")\n",
    "print(f\"Integrating {expression1} wrt x from 0 to 1 and y from 2 to 3: {integrate(expression1, (x,0,1), (y,2,3))}\")\n",
    "\n",
    "# To use hyperbolic trigo fn, inverse trigo fn, inverse hyperbolic trigo fn \n",
    "from sympy import sinh, cosh, tanh, asin, acos, atan, asinh, acosh, atanh\n",
    "\n",
    "# To simplify a trigo fn only\n",
    "from sympy import trigsimp\n",
    "trigo_expr2 = sin(x)**2 + cos(x)**2\n",
    "print(f\"{trigo_expr2} can be simplified as {trigsimp(trigo_expr2)}\")"
   ]
  },
  {
   "cell_type": "markdown",
   "metadata": {},
   "source": [
    "# Matrices"
   ]
  },
  {
   "cell_type": "code",
   "execution_count": 45,
   "metadata": {},
   "outputs": [
    {
     "name": "stdout",
     "output_type": "stream",
     "text": [
      "⎡1  2⎤\n",
      "⎢    ⎥\n",
      "⎣3  4⎦\n",
      "⎡1⎤\n",
      "⎢ ⎥\n",
      "⎢2⎥\n",
      "⎢ ⎥\n",
      "⎣3⎦\n",
      "[1  2  3]\n",
      "⎡1  3⎤\n",
      "⎢    ⎥\n",
      "⎣2  4⎦\n",
      "-2\n",
      "Addition of matrix 1 and matrix 2: \n",
      "⎡6   8 ⎤\n",
      "⎢      ⎥\n",
      "⎣10  12⎦\n",
      "Multiplication of matrix 1 and matrix 2: \n",
      "⎡19  22⎤\n",
      "⎢      ⎥\n",
      "⎣43  50⎦\n",
      "Inverse of matrix 1 : \n",
      "⎡-2    1  ⎤\n",
      "⎢         ⎥\n",
      "⎣3/2  -1/2⎦\n",
      "⎡1  0  0⎤\n",
      "⎢       ⎥\n",
      "⎢0  1  0⎥\n",
      "⎢       ⎥\n",
      "⎣0  0  1⎦\n",
      "⎡1  1⎤\n",
      "⎢    ⎥\n",
      "⎢1  1⎥\n",
      "⎢    ⎥\n",
      "⎣1  1⎦\n",
      "⎡1  1⎤\n",
      "⎢    ⎥\n",
      "⎢1  1⎥\n",
      "⎢    ⎥\n",
      "⎣1  1⎦\n",
      "⎡0  0⎤\n",
      "⎢    ⎥\n",
      "⎢0  0⎥\n",
      "⎢    ⎥\n",
      "⎣0  0⎦\n"
     ]
    }
   ],
   "source": [
    "from sympy import symbols, Matrix, pretty_print, eye, ones, zeros\n",
    "\n",
    "matrix1 = Matrix([[1,2],[3,4]])\n",
    "matrix2 = Matrix([[5,6],[7,8]])\n",
    "\n",
    "pretty_print(matrix1)\n",
    "row_vector = Matrix([[1,2,3]])\n",
    "column_vector = Matrix([[1],[2],[3]])\n",
    "pretty_print(column_vector)\n",
    "pretty_print(row_vector)\n",
    "\n",
    "# For taking a Transpose\n",
    "pretty_print(matrix1.T)\n",
    "\n",
    "# FOR TAKING A DETERMINANT\n",
    "pretty_print(matrix1.det())\n",
    "\n",
    "# For addn / subtraction of matrices\n",
    "print(\"Addition of matrix 1 and matrix 2: \")\n",
    "pretty_print(matrix1+matrix2)\n",
    "\n",
    "# For multiplication of matrices\n",
    "print(\"Multiplication of matrix 1 and matrix 2: \")\n",
    "pretty_print(matrix1 * matrix2)\n",
    "\n",
    "# For inverse of a matrix\n",
    "print(\"Inverse of matrix 1 : \")\n",
    "pretty_print(matrix1**(-1))\n",
    "\n",
    "# For creating an Identity Matrix\n",
    "identity_matrix = eye(3)\n",
    "pretty_print(identity_matrix)\n",
    "\n",
    "# For creating a 1 matrix of 3 x 2 order\n",
    "ones_matrix = ones(3,2)\n",
    "pretty_print(ones_matrix)\n",
    "\n",
    "\n",
    "# For creating a 1 matrix of 3 x 2 order\n",
    "ones_matrix = ones(3,2)\n",
    "pretty_print(ones_matrix)\n",
    "\n",
    "# For creating a 0 matrix of 3 x 2 order\n",
    "zeros_matrix = zeros(3,2)\n",
    "pretty_print(zeros_matrix)"
   ]
  },
  {
   "cell_type": "markdown",
   "metadata": {},
   "source": [
    "# Limits"
   ]
  },
  {
   "cell_type": "code",
   "execution_count": 48,
   "metadata": {},
   "outputs": [
    {
     "name": "stdout",
     "output_type": "stream",
     "text": [
      "2*x\n",
      "2*x\n",
      "2*x\n"
     ]
    }
   ],
   "source": [
    "# For Limits\n",
    "from sympy import symbols, limit,oo\n",
    "\n",
    "x,h = symbols(\"x h\")\n",
    "expr = ((x+h)**2 - x**2)/h\n",
    "limit_x = limit(expr,h,0)\n",
    "print(limit_x)\n",
    "\n",
    "# For a limit from positive side:\n",
    "limit_x_pos = limit(expr,h,0,\"+\")\n",
    "print(limit_x_pos)\n",
    "\n",
    "# For a limit from negative side:\n",
    "limit_x_neg = limit(expr,h,0,\"-\")\n",
    "print(limit_x_neg)\n"
   ]
  },
  {
   "cell_type": "markdown",
   "metadata": {},
   "source": [
    "# Strings To Expression"
   ]
  },
  {
   "cell_type": "code",
   "execution_count": 53,
   "metadata": {},
   "outputs": [
    {
     "name": "stdout",
     "output_type": "stream",
     "text": [
      "cos(2) + 2\n"
     ]
    }
   ],
   "source": [
    "from sympy import sympify, symbols\n",
    "from sympy.parsing.sympy_parser import parse_expr\n",
    "\n",
    "x = symbols(\"x\")\n",
    "user_input = input(\"Enter an expression in x\")\n",
    "# x**2 + 2*x + 1\n",
    "subs_exprs = {x:-2}\n",
    "expression_user = sympify(user_input, evaluate=True) #Evaluate is True by default can be turned to False if required\n",
    "expression_user = parse_expr(user_input, evaluate=True) #Evaluate is True by default can be turned to False if required\n",
    "# NOTE: sympify uses the eval fn of python which can also execute terminal commands making it much more risky to use. \n",
    "# Thus prefer using parse_expr instead.\n",
    "print(expression_user.subs(subs_exprs))"
   ]
  },
  {
   "cell_type": "markdown",
   "metadata": {},
   "source": [
    "# Taylor Series"
   ]
  },
  {
   "cell_type": "code",
   "execution_count": 58,
   "metadata": {},
   "outputs": [
    {
     "name": "stdout",
     "output_type": "stream",
     "text": [
      "Error: 0.8008517265285442\n",
      "Error: 0.5768099188731565\n",
      "Error: 0.35276811121776874\n",
      "Error: 0.18473675547622792\n",
      "Error: 0.08391794203130346\n",
      "Error: 0.03350853530884121\n",
      "Error: 0.011904503856357388\n",
      "Error: 0.003802992061675957\n",
      "Error: 0.0011024881301154798\n",
      "   9        8      7      6     5    4    3    2        \n",
      "  x        x      x      x     x    x    x    x         \n",
      "────── + ───── + ──── + ─── + ─── + ── + ── + ── + x + 1\n",
      "362880   40320   5040   720   120   24   6    2         \n"
     ]
    }
   ],
   "source": [
    "from sympy import symbols, diff, factorial, exp, pretty_print\n",
    "\n",
    "x = symbols(\"x\")\n",
    "function_x = exp(x)\n",
    "n = 10 # Number of times you want the summation to happen\n",
    "x0 = 0 # The value around which the Taylor series is calculated\n",
    "\n",
    "result = function_x.subs(x,x0)\n",
    "\n",
    "for i in range(1,n):\n",
    "    result += diff(function_x,x,i).subs(x,x0)*(x-x0)**i/factorial(i)\n",
    "    val = 3 # To check error at a particular value:\n",
    "    error = (function_x.subs(x,val) - result.subs(x,val))/function_x.subs(x,val)\n",
    "    print(f\"Error: {float(error)}\")\n",
    "    \n",
    "pretty_print(result)\n",
    "\n"
   ]
  }
 ],
 "metadata": {
  "kernelspec": {
   "display_name": "base",
   "language": "python",
   "name": "python3"
  },
  "language_info": {
   "codemirror_mode": {
    "name": "ipython",
    "version": 3
   },
   "file_extension": ".py",
   "mimetype": "text/x-python",
   "name": "python",
   "nbconvert_exporter": "python",
   "pygments_lexer": "ipython3",
   "version": "3.12.4"
  }
 },
 "nbformat": 4,
 "nbformat_minor": 2
}
