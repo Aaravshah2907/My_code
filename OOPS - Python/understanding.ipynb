{
 "cells": [
  {
   "cell_type": "markdown",
   "metadata": {},
   "source": [
    "# Class & Objects"
   ]
  },
  {
   "cell_type": "code",
   "execution_count": 11,
   "metadata": {},
   "outputs": [
    {
     "name": "stdout",
     "output_type": "stream",
     "text": [
      "Config of computer for <__main__.Computer object at 0x0000023CD4936A50> is i5, 16 GB ram.\n"
     ]
    }
   ],
   "source": [
    "class Computer: # Creates a class name Computer\n",
    "    def __init__(self,cpu:str, ram:int) -> None:\n",
    "        self.cpu = cpu\n",
    "        self.ram = ram\n",
    "    \n",
    "    def config(self):\n",
    "        print(f\"Config of computer for {self} is {self.cpu}, {self.ram} GB ram.\")\n",
    "\n",
    "com1 = Computer(\"i5\",16)\n",
    "com2 = Computer(\"Ryzen 7000\", 25)\n",
    "\n",
    "# print(type(com1)) #Prints the type of com1\n",
    "''' Not used frequently\n",
    "Computer.config(com1)\n",
    "Computer.config(com2)\n",
    "'''\n",
    "\n",
    "com1.config()"
   ]
  }
 ],
 "metadata": {
  "kernelspec": {
   "display_name": "base",
   "language": "python",
   "name": "python3"
  },
  "language_info": {
   "codemirror_mode": {
    "name": "ipython",
    "version": 3
   },
   "file_extension": ".py",
   "mimetype": "text/x-python",
   "name": "python",
   "nbconvert_exporter": "python",
   "pygments_lexer": "ipython3",
   "version": "3.12.4"
  }
 },
 "nbformat": 4,
 "nbformat_minor": 2
}
